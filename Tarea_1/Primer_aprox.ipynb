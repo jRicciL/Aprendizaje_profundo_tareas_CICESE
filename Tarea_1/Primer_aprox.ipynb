{
 "cells": [
  {
   "cell_type": "code",
   "execution_count": 1,
   "id": "peripheral-punch",
   "metadata": {},
   "outputs": [],
   "source": [
    "import numpy as np\n",
    "import matplotlib.pyplot as plt\n",
    "# import sympy as sym\n",
    "# from sympy.functions import exp\n",
    "# from sympy.abc import x"
   ]
  },
  {
   "cell_type": "code",
   "execution_count": 7,
   "id": "aware-setting",
   "metadata": {},
   "outputs": [],
   "source": [
    "n_curves = 5"
   ]
  },
  {
   "cell_type": "code",
   "execution_count": 75,
   "id": "optical-artist",
   "metadata": {},
   "outputs": [],
   "source": [
    "# Definimos la función PHI\n",
    "\n",
    "def get_phi_j(x, mu_j, sig_j):\n",
    "    phi = np.exp( - (1 / (2* sig_j**2)) * (x - mu_j)**2)\n",
    "    return phi\n",
    "\n",
    "\n",
    "def get_PHI(X, mus, sigs):\n",
    "    PHI = np.zeros((len(X), len(mus)))\n",
    "    for j in range(len(mus)):\n",
    "        PHI[:, j] = get_phi_j(X, mus[j], sigs[j])\n",
    "    return PHI\n",
    "\n",
    "def get_yh(X, a, mus, sigs):\n",
    "    PHI = get_PHI(X, mus, sigs)\n",
    "    yh = PHI.dot(a)\n",
    "    return yh\n",
    "\n",
    "def get_error(y, y_h):\n",
    "    residual = y - y_h\n",
    "    return residual\n",
    "\n",
    "def get_phi_partial_mu(x, mu_j, sig_j):\n",
    "    phi_j = get_phi_j(x, mu_j, sig_j)\n",
    "    partial_phi_mu = ((x - mu_j) / sig_j)*phi_j\n",
    "    return partial_phi_mu\n",
    "\n",
    "def get_phi_partial_sig(x, mu_j, sig_j):\n",
    "    phi_j = get_phi_j(x, mu_j, sig_j)\n",
    "    get_phi_partial_sig = ((x - mu_j)**2 / sig_j**3)*phi_j\n",
    "    return get_phi_partial_sig\n",
    "\n",
    "def grad(X, a, mus, sigs):\n",
    "    partials_mu = np.zeros((len(X), len(mus)))\n",
    "    for j in range(len(mus)):\n",
    "        partials_mu[:, j] = get_phi_partial_mu(X, mus[j], sigs[j])\n",
    "    grad_mus = partials_mu.sum(axis=0)\n",
    "        \n",
    "    partials_sig = np.zeros((len(X), len(sigs)))\n",
    "    for j in range(len(sigs)):\n",
    "        partials_sig[:, j] = get_phi_partial_sig(X, mus[j], sigs[j])\n",
    "    grad_sigs = partials_sig.sum(axis=0)\n",
    "        \n",
    "    # Concatenate the set of partials\n",
    "    grad = np.concatenate((grad_mus, grad_sigs))\n",
    "    return grad"
   ]
  },
  {
   "cell_type": "code",
   "execution_count": 76,
   "id": "aggressive-latest",
   "metadata": {},
   "outputs": [
    {
     "data": {
      "text/plain": [
       "<matplotlib.collections.PathCollection at 0x7f8e7c27f940>"
      ]
     },
     "execution_count": 76,
     "metadata": {},
     "output_type": "execute_result"
    },
    {
     "data": {
      "image/png": "[encoded data removed]",
      "text/plain": [
       "<Figure size 432x288 with 1 Axes>"
      ]
     },
     "metadata": {
      "needs_background": "light"
     },
     "output_type": "display_data"
    }
   ],
   "source": [
    "X = np.linspace(0, 100, 1000)\n",
    "y_1 = 10 * get_phi_j(X, 20, 5) + np.random.rand(1000)\n",
    "y_2 = 8 * get_phi_j(X, 60, 5) + np.random.rand(1000)\n",
    "y_3 = 5 * get_phi_j(X, 8, 3) + np.random.rand(1000)\n",
    "\n",
    "y = y_1 + y_2 + y_3\n",
    "plt.scatter(X, y)"
   ]
  },
  {
   "cell_type": "code",
   "execution_count": 80,
   "id": "still-religion",
   "metadata": {},
   "outputs": [],
   "source": [
    "mus = [1, 1, 1]\n",
    "sigs = [1, 1, 1]\n",
    "alphas = [10, 8, 5]"
   ]
  },
  {
   "cell_type": "code",
   "execution_count": 82,
   "id": "binary-jonathan",
   "metadata": {},
   "outputs": [
    {
     "data": {
      "text/plain": [
       "array([0.94244022, 0.94244022, 0.94244022, 0.84682617, 0.84682617,\n",
       "       0.84682617])"
      ]
     },
     "execution_count": 82,
     "metadata": {},
     "output_type": "execute_result"
    }
   ],
   "source": [
    "np.concatenate((mus, sigs)) - 0.01*grad(X, alphas, mus, sigs)"
   ]
  },
  {
   "cell_type": "code",
   "execution_count": 89,
   "id": "crucial-makeup",
   "metadata": {},
   "outputs": [
    {
     "data": {
      "text/plain": [
       "array([[ 1.05755978,  1.05755978,  1.05755978,  1.15317383,  1.15317383,\n",
       "         1.15317383],\n",
       "       [ 1.11511955,  1.11511955,  1.11511955,  1.30634766,  1.30634766,\n",
       "         1.30634766],\n",
       "       [ 1.17267933,  1.17267933,  1.17267933,  1.45952148,  1.45952148,\n",
       "         1.45952148],\n",
       "       [ 1.23023911,  1.23023911,  1.23023911,  1.61269531,  1.61269531,\n",
       "         1.61269531],\n",
       "       [ 1.28779888,  1.28779888,  1.28779888,  1.76586914,  1.76586914,\n",
       "         1.76586914],\n",
       "       [ 1.34535866,  1.34535866,  1.34535866,  1.91904297,  1.91904297,\n",
       "         1.91904297],\n",
       "       [ 1.40291844,  1.40291844,  1.40291844,  2.0722168 ,  2.0722168 ,\n",
       "         2.0722168 ],\n",
       "       [ 1.46047821,  1.46047821,  1.46047821,  2.22539062,  2.22539062,\n",
       "         2.22539062],\n",
       "       [ 1.51803799,  1.51803799,  1.51803799,  2.37856445,  2.37856445,\n",
       "         2.37856445],\n",
       "       [ 1.57559777,  1.57559777,  1.57559777,  2.53173828,  2.53173828,\n",
       "         2.53173828],\n",
       "       [ 1.63315754,  1.63315754,  1.63315754,  2.68491211,  2.68491211,\n",
       "         2.68491211],\n",
       "       [ 1.69071732,  1.69071732,  1.69071732,  2.83808594,  2.83808594,\n",
       "         2.83808594],\n",
       "       [ 1.74827709,  1.74827709,  1.74827709,  2.99125977,  2.99125977,\n",
       "         2.99125977],\n",
       "       [ 1.80583687,  1.80583687,  1.80583687,  3.14443359,  3.14443359,\n",
       "         3.14443359],\n",
       "       [ 1.86339665,  1.86339665,  1.86339665,  3.29760742,  3.29760742,\n",
       "         3.29760742],\n",
       "       [ 1.92095642,  1.92095642,  1.92095642,  3.45078125,  3.45078125,\n",
       "         3.45078125],\n",
       "       [ 1.9785162 ,  1.9785162 ,  1.9785162 ,  3.60395508,  3.60395508,\n",
       "         3.60395508],\n",
       "       [ 2.03607598,  2.03607598,  2.03607598,  3.75712891,  3.75712891,\n",
       "         3.75712891],\n",
       "       [ 2.09363575,  2.09363575,  2.09363575,  3.91030273,  3.91030273,\n",
       "         3.91030273],\n",
       "       [ 2.15119553,  2.15119553,  2.15119553,  4.06347656,  4.06347656,\n",
       "         4.06347656],\n",
       "       [ 2.20875531,  2.20875531,  2.20875531,  4.21665039,  4.21665039,\n",
       "         4.21665039],\n",
       "       [ 2.26631508,  2.26631508,  2.26631508,  4.36982422,  4.36982422,\n",
       "         4.36982422],\n",
       "       [ 2.32387486,  2.32387486,  2.32387486,  4.52299805,  4.52299805,\n",
       "         4.52299805],\n",
       "       [ 2.38143464,  2.38143464,  2.38143464,  4.67617187,  4.67617187,\n",
       "         4.67617187],\n",
       "       [ 2.43899441,  2.43899441,  2.43899441,  4.8293457 ,  4.8293457 ,\n",
       "         4.8293457 ],\n",
       "       [ 2.49655419,  2.49655419,  2.49655419,  4.98251953,  4.98251953,\n",
       "         4.98251953],\n",
       "       [ 2.55411397,  2.55411397,  2.55411397,  5.13569336,  5.13569336,\n",
       "         5.13569336],\n",
       "       [ 2.61167374,  2.61167374,  2.61167374,  5.28886719,  5.28886719,\n",
       "         5.28886719],\n",
       "       [ 2.66923352,  2.66923352,  2.66923352,  5.44204101,  5.44204101,\n",
       "         5.44204101],\n",
       "       [ 2.7267933 ,  2.7267933 ,  2.7267933 ,  5.59521484,  5.59521484,\n",
       "         5.59521484],\n",
       "       [ 2.78435307,  2.78435307,  2.78435307,  5.74838867,  5.74838867,\n",
       "         5.74838867],\n",
       "       [ 2.84191285,  2.84191285,  2.84191285,  5.9015625 ,  5.9015625 ,\n",
       "         5.9015625 ],\n",
       "       [ 2.89947263,  2.89947263,  2.89947263,  6.05473633,  6.05473633,\n",
       "         6.05473633],\n",
       "       [ 2.9570324 ,  2.9570324 ,  2.9570324 ,  6.20791016,  6.20791016,\n",
       "         6.20791016],\n",
       "       [ 3.01459218,  3.01459218,  3.01459218,  6.36108398,  6.36108398,\n",
       "         6.36108398],\n",
       "       [ 3.07215196,  3.07215196,  3.07215196,  6.51425781,  6.51425781,\n",
       "         6.51425781],\n",
       "       [ 3.12971173,  3.12971173,  3.12971173,  6.66743164,  6.66743164,\n",
       "         6.66743164],\n",
       "       [ 3.18727151,  3.18727151,  3.18727151,  6.82060547,  6.82060547,\n",
       "         6.82060547],\n",
       "       [ 3.24483128,  3.24483128,  3.24483128,  6.9737793 ,  6.9737793 ,\n",
       "         6.9737793 ],\n",
       "       [ 3.30239106,  3.30239106,  3.30239106,  7.12695312,  7.12695312,\n",
       "         7.12695312],\n",
       "       [ 3.35995084,  3.35995084,  3.35995084,  7.28012695,  7.28012695,\n",
       "         7.28012695],\n",
       "       [ 3.41751061,  3.41751061,  3.41751061,  7.43330078,  7.43330078,\n",
       "         7.43330078],\n",
       "       [ 3.47507039,  3.47507039,  3.47507039,  7.58647461,  7.58647461,\n",
       "         7.58647461],\n",
       "       [ 3.53263017,  3.53263017,  3.53263017,  7.73964844,  7.73964844,\n",
       "         7.73964844],\n",
       "       [ 3.59018994,  3.59018994,  3.59018994,  7.89282226,  7.89282226,\n",
       "         7.89282226],\n",
       "       [ 3.64774972,  3.64774972,  3.64774972,  8.04599609,  8.04599609,\n",
       "         8.04599609],\n",
       "       [ 3.7053095 ,  3.7053095 ,  3.7053095 ,  8.19916992,  8.19916992,\n",
       "         8.19916992],\n",
       "       [ 3.76286927,  3.76286927,  3.76286927,  8.35234375,  8.35234375,\n",
       "         8.35234375],\n",
       "       [ 3.82042905,  3.82042905,  3.82042905,  8.50551758,  8.50551758,\n",
       "         8.50551758],\n",
       "       [ 3.87798883,  3.87798883,  3.87798883,  8.65869141,  8.65869141,\n",
       "         8.65869141],\n",
       "       [ 3.9355486 ,  3.9355486 ,  3.9355486 ,  8.81186523,  8.81186523,\n",
       "         8.81186523],\n",
       "       [ 3.99310838,  3.99310838,  3.99310838,  8.96503906,  8.96503906,\n",
       "         8.96503906],\n",
       "       [ 4.05066816,  4.05066816,  4.05066816,  9.11821289,  9.11821289,\n",
       "         9.11821289],\n",
       "       [ 4.10822793,  4.10822793,  4.10822793,  9.27138672,  9.27138672,\n",
       "         9.27138672],\n",
       "       [ 4.16578771,  4.16578771,  4.16578771,  9.42456055,  9.42456055,\n",
       "         9.42456055],\n",
       "       [ 4.22334749,  4.22334749,  4.22334749,  9.57773437,  9.57773437,\n",
       "         9.57773437],\n",
       "       [ 4.28090726,  4.28090726,  4.28090726,  9.7309082 ,  9.7309082 ,\n",
       "         9.7309082 ],\n",
       "       [ 4.33846704,  4.33846704,  4.33846704,  9.88408203,  9.88408203,\n",
       "         9.88408203],\n",
       "       [ 4.39602682,  4.39602682,  4.39602682, 10.03725586, 10.03725586,\n",
       "        10.03725586],\n",
       "       [ 4.45358659,  4.45358659,  4.45358659, 10.19042969, 10.19042969,\n",
       "        10.19042969],\n",
       "       [ 4.51114637,  4.51114637,  4.51114637, 10.34360351, 10.34360351,\n",
       "        10.34360351],\n",
       "       [ 4.56870615,  4.56870615,  4.56870615, 10.49677734, 10.49677734,\n",
       "        10.49677734],\n",
       "       [ 4.62626592,  4.62626592,  4.62626592, 10.64995117, 10.64995117,\n",
       "        10.64995117],\n",
       "       [ 4.6838257 ,  4.6838257 ,  4.6838257 , 10.803125  , 10.803125  ,\n",
       "        10.803125  ],\n",
       "       [ 4.74138547,  4.74138547,  4.74138547, 10.95629883, 10.95629883,\n",
       "        10.95629883],\n",
       "       [ 4.79894525,  4.79894525,  4.79894525, 11.10947265, 11.10947265,\n",
       "        11.10947265],\n",
       "       [ 4.85650503,  4.85650503,  4.85650503, 11.26264648, 11.26264648,\n",
       "        11.26264648],\n",
       "       [ 4.9140648 ,  4.9140648 ,  4.9140648 , 11.41582031, 11.41582031,\n",
       "        11.41582031],\n",
       "       [ 4.97162458,  4.97162458,  4.97162458, 11.56899414, 11.56899414,\n",
       "        11.56899414],\n",
       "       [ 5.02918436,  5.02918436,  5.02918436, 11.72216797, 11.72216797,\n",
       "        11.72216797],\n",
       "       [ 5.08674413,  5.08674413,  5.08674413, 11.8753418 , 11.8753418 ,\n",
       "        11.8753418 ],\n",
       "       [ 5.14430391,  5.14430391,  5.14430391, 12.02851562, 12.02851562,\n",
       "        12.02851562],\n",
       "       [ 5.20186369,  5.20186369,  5.20186369, 12.18168945, 12.18168945,\n",
       "        12.18168945],\n",
       "       [ 5.25942346,  5.25942346,  5.25942346, 12.33486328, 12.33486328,\n",
       "        12.33486328],\n",
       "       [ 5.31698324,  5.31698324,  5.31698324, 12.48803711, 12.48803711,\n",
       "        12.48803711],\n",
       "       [ 5.37454302,  5.37454302,  5.37454302, 12.64121094, 12.64121094,\n",
       "        12.64121094],\n",
       "       [ 5.43210279,  5.43210279,  5.43210279, 12.79438476, 12.79438476,\n",
       "        12.79438476],\n",
       "       [ 5.48966257,  5.48966257,  5.48966257, 12.94755859, 12.94755859,\n",
       "        12.94755859],\n",
       "       [ 5.54722235,  5.54722235,  5.54722235, 13.10073242, 13.10073242,\n",
       "        13.10073242],\n",
       "       [ 5.60478212,  5.60478212,  5.60478212, 13.25390625, 13.25390625,\n",
       "        13.25390625],\n",
       "       [ 5.6623419 ,  5.6623419 ,  5.6623419 , 13.40708008, 13.40708008,\n",
       "        13.40708008],\n",
       "       [ 5.71990168,  5.71990168,  5.71990168, 13.5602539 , 13.5602539 ,\n",
       "        13.5602539 ],\n",
       "       [ 5.77746145,  5.77746145,  5.77746145, 13.71342773, 13.71342773,\n",
       "        13.71342773],\n",
       "       [ 5.83502123,  5.83502123,  5.83502123, 13.86660156, 13.86660156,\n",
       "        13.86660156],\n",
       "       [ 5.89258101,  5.89258101,  5.89258101, 14.01977539, 14.01977539,\n",
       "        14.01977539],\n",
       "       [ 5.95014078,  5.95014078,  5.95014078, 14.17294922, 14.17294922,\n",
       "        14.17294922],\n",
       "       [ 6.00770056,  6.00770056,  6.00770056, 14.32612304, 14.32612304,\n",
       "        14.32612304],\n",
       "       [ 6.06526034,  6.06526034,  6.06526034, 14.47929687, 14.47929687,\n",
       "        14.47929687],\n",
       "       [ 6.12282011,  6.12282011,  6.12282011, 14.6324707 , 14.6324707 ,\n",
       "        14.6324707 ],\n",
       "       [ 6.18037989,  6.18037989,  6.18037989, 14.78564453, 14.78564453,\n",
       "        14.78564453],\n",
       "       [ 6.23793966,  6.23793966,  6.23793966, 14.93881836, 14.93881836,\n",
       "        14.93881836],\n",
       "       [ 6.29549944,  6.29549944,  6.29549944, 15.09199219, 15.09199219,\n",
       "        15.09199219],\n",
       "       [ 6.35305922,  6.35305922,  6.35305922, 15.24516601, 15.24516601,\n",
       "        15.24516601],\n",
       "       [ 6.41061899,  6.41061899,  6.41061899, 15.39833984, 15.39833984,\n",
       "        15.39833984],\n",
       "       [ 6.46817877,  6.46817877,  6.46817877, 15.55151367, 15.55151367,\n",
       "        15.55151367],\n",
       "       [ 6.52573855,  6.52573855,  6.52573855, 15.7046875 , 15.7046875 ,\n",
       "        15.7046875 ],\n",
       "       [ 6.58329832,  6.58329832,  6.58329832, 15.85786133, 15.85786133,\n",
       "        15.85786133],\n",
       "       [ 6.6408581 ,  6.6408581 ,  6.6408581 , 16.01103515, 16.01103515,\n",
       "        16.01103515],\n",
       "       [ 6.69841788,  6.69841788,  6.69841788, 16.16420898, 16.16420898,\n",
       "        16.16420898],\n",
       "       [ 6.75597765,  6.75597765,  6.75597765, 16.31738281, 16.31738281,\n",
       "        16.31738281]])"
      ]
     },
     "execution_count": 89,
     "metadata": {},
     "output_type": "execute_result"
    }
   ],
   "source": [
    "def GD(grad, X, y, a, mus, sigs, n_iter, lr=0.01):\n",
    "    \n",
    "    theta = np.concatenate([mus, sigs])\n",
    "    Theta = []\n",
    "    \n",
    "    for t in range(n_iter):\n",
    "        p = grad(X, a, mus, sigs)\n",
    "        theta = theta + lr*p\n",
    "        Theta.append(theta)\n",
    "    return np.array(Theta)\n",
    "\n",
    "GD(grad, X, y, alphas, mus, sigs, n_iter=100)"
   ]
  },
  {
   "cell_type": "code",
   "execution_count": null,
   "id": "featured-auction",
   "metadata": {},
   "outputs": [],
   "source": []
  },
  {
   "cell_type": "code",
   "execution_count": null,
   "id": "embedded-chambers",
   "metadata": {},
   "outputs": [],
   "source": []
  },
  {
   "cell_type": "code",
   "execution_count": 30,
   "id": "furnished-device",
   "metadata": {},
   "outputs": [
    {
     "data": {
      "text/plain": [
       "[<matplotlib.lines.Line2D at 0x7fa08f3400a0>]"
      ]
     },
     "execution_count": 30,
     "metadata": {},
     "output_type": "execute_result"
    },
    {
     "data": {
      "image/png": "[encoded data removed]",
      "text/plain": [
       "<Figure size 432x288 with 1 Axes>"
      ]
     },
     "metadata": {
      "needs_background": "light"
     },
     "output_type": "display_data"
    }
   ],
   "source": [
    "\n",
    "PHI = get_PHI(X, mus, sigs)\n",
    "\n",
    "yh = get_yh(X, alphas, mus, sigs)\n",
    "plt.plot(yh)"
   ]
  },
  {
   "cell_type": "code",
   "execution_count": null,
   "id": "radical-lender",
   "metadata": {},
   "outputs": [],
   "source": []
  },
  {
   "cell_type": "code",
   "execution_count": null,
   "id": "narrow-snapshot",
   "metadata": {},
   "outputs": [],
   "source": []
  },
  {
   "cell_type": "code",
   "execution_count": null,
   "id": "liable-webcam",
   "metadata": {},
   "outputs": [],
   "source": []
  },
  {
   "cell_type": "code",
   "execution_count": 31,
   "id": "adequate-morrison",
   "metadata": {},
   "outputs": [
    {
     "data": {
      "text/plain": [
       "[<matplotlib.lines.Line2D at 0x7fa08f4cf1c0>]"
      ]
     },
     "execution_count": 31,
     "metadata": {},
     "output_type": "execute_result"
    },
    {
     "data": {
      "image/png": "[encoded data removed]",
      "text/plain": [
       "<Figure size 432x288 with 1 Axes>"
      ]
     },
     "metadata": {
      "needs_background": "light"
     },
     "output_type": "display_data"
    }
   ],
   "source": [
    "# Get the errors\n",
    "plt.plot(get_error(y, yh))"
   ]
  },
  {
   "cell_type": "code",
   "execution_count": 117,
   "id": "otherwise-queensland",
   "metadata": {},
   "outputs": [
    {
     "data": {
      "text/plain": [
       "[<matplotlib.lines.Line2D at 0x7fc3b8f82880>]"
      ]
     },
     "execution_count": 117,
     "metadata": {},
     "output_type": "execute_result"
    },
    {
     "data": {
      "image/png": "[encoded data removed]",
      "text/plain": [
       "<Figure size 432x288 with 1 Axes>"
      ]
     },
     "metadata": {
      "needs_background": "light"
     },
     "output_type": "display_data"
    }
   ],
   "source": [
    "X = np.linspace(0, 100, 1000)\n",
    "y_1 = 10 * phi_ij(X, 20, 5) + np.random.rand(1000)\n",
    "y_2 = 8 * phi_ij(X, 60, 5) + np.random.rand(1000)\n",
    "y_3 = 5 * phi_ij(X, 8, 3) + np.random.rand(1000)\n",
    "y_4 = 6 * phi_ij(X, 78, 7) + np.random.rand(1000)\n",
    "y_5 = 6 * phi_ij(X, 38, 18) + np.random.rand(1000)\n",
    "y_5 = 6 * phi_ij(X, 38, 18) + np.random.rand(1000)\n",
    "\n",
    "plt.plot(y_1 + y_2 + y_3 + y_4 + y_5)"
   ]
  },
  {
   "cell_type": "code",
   "execution_count": 99,
   "id": "dependent-hygiene",
   "metadata": {},
   "outputs": [
    {
     "data": {
      "text/plain": [
       "0.7553931952017077"
      ]
     },
     "execution_count": 99,
     "metadata": {},
     "output_type": "execute_result"
    }
   ],
   "source": [
    "np.random.rand()"
   ]
  },
  {
   "cell_type": "markdown",
   "id": "hindu-vehicle",
   "metadata": {},
   "source": [
    "Gaussiana sin amplitud:\n",
    "$$\\phi_{ij} = exp(\\frac{- (x - \\mu)^2}{2  \\sigma ^ 2})$$\n",
    "\n",
    "Función $\\Phi$:\n",
    "$$\\ = $$"
   ]
  },
  {
   "cell_type": "code",
   "execution_count": 85,
   "id": "adapted-hearts",
   "metadata": {},
   "outputs": [
    {
     "data": {
      "text/plain": [
       "array([0., 0., 0., 0., 0., 0., 0., 0., 0., 0.])"
      ]
     },
     "execution_count": 85,
     "metadata": {},
     "output_type": "execute_result"
    }
   ],
   "source": [
    "np.zeros_like(np.arange(10), ) "
   ]
  },
  {
   "cell_type": "code",
   "execution_count": 90,
   "id": "solved-passenger",
   "metadata": {},
   "outputs": [
    {
     "data": {
      "text/latex": [
       "$\\displaystyle e^{- \\frac{\\left(- \\mu + x\\right)^{2}}{2 \\sigma^{2}}}$"
      ],
      "text/plain": [
       "exp(-(-\\mu + x)**2/(2*\\sigma**2))"
      ]
     },
     "execution_count": 90,
     "metadata": {},
     "output_type": "execute_result"
    }
   ],
   "source": [
    "from sympy.calculus.euler import euler_equations\n",
    "x = sym.Symbol('x')\n",
    "a = sym.Symbol('a')\n",
    "mu = sym.Symbol(r'\\mu')\n",
    "sig = sym.Symbol(r'\\sigma')\n",
    "phi = sym.Function('phi')\n",
    "\n",
    "phi = exp( - (1 / (2* sig**2)) * (x - mu)**2)\n",
    "phi"
   ]
  },
  {
   "cell_type": "code",
   "execution_count": 35,
   "id": "junior-significance",
   "metadata": {},
   "outputs": [
    {
     "data": {
      "text/latex": [
       "$\\displaystyle - \\frac{\\left(2 \\mu - 2 x\\right) e^{- \\frac{\\left(- \\mu + x\\right)^{2}}{2 \\sigma^{2}}}}{2 \\sigma^{2}}$"
      ],
      "text/plain": [
       "-(2*\\mu - 2*x)*exp(-(-\\mu + x)**2/(2*\\sigma**2))/(2*\\sigma**2)"
      ]
     },
     "execution_count": 35,
     "metadata": {},
     "output_type": "execute_result"
    }
   ],
   "source": [
    "sym.diff(phi, mu)"
   ]
  },
  {
   "cell_type": "code",
   "execution_count": 91,
   "id": "ordinary-country",
   "metadata": {},
   "outputs": [
    {
     "data": {
      "text/latex": [
       "$\\displaystyle \\frac{\\left(- \\mu + x\\right)^{2} e^{- \\frac{\\left(- \\mu + x\\right)^{2}}{2 \\sigma^{2}}}}{\\sigma^{3}}$"
      ],
      "text/plain": [
       "(-\\mu + x)**2*exp(-(-\\mu + x)**2/(2*\\sigma**2))/\\sigma**3"
      ]
     },
     "execution_count": 91,
     "metadata": {},
     "output_type": "execute_result"
    }
   ],
   "source": [
    "sym.diff(phi, sig)"
   ]
  },
  {
   "cell_type": "code",
   "execution_count": 88,
   "id": "endangered-hearts",
   "metadata": {},
   "outputs": [
    {
     "data": {
      "text/latex": [
       "$\\displaystyle e^{- \\frac{\\left(- \\mu + x\\right)^{2}}{2 \\sigma^{2}}}$"
      ],
      "text/plain": [
       "exp(-(-\\mu + x)**2/(2*\\sigma**2))"
      ]
     },
     "execution_count": 88,
     "metadata": {},
     "output_type": "execute_result"
    }
   ],
   "source": [
    "phi"
   ]
  },
  {
   "cell_type": "code",
   "execution_count": null,
   "id": "dress-subsection",
   "metadata": {},
   "outputs": [],
   "source": [
    "(x - mu_j) / sig_j)"
   ]
  },
  {
   "cell_type": "code",
   "execution_count": 351,
   "id": "demanding-threshold",
   "metadata": {},
   "outputs": [],
   "source": [
    "# Tratar de ajustar una gaussiana a la distribuci'on de puntos"
   ]
  },
  {
   "cell_type": "code",
   "execution_count": 58,
   "id": "elect-extension",
   "metadata": {},
   "outputs": [],
   "source": [
    "A = 10 # por ahora es constante\n",
    "\n",
    "def phi(x, mu_j, sig_j):\n",
    "    phi = np.exp( (- 1 / (2* sig_j**2)) * (x - mu_j)**2)\n",
    "    return phi\n",
    "\n",
    "def error(y, yh):\n",
    "    error = yh - y\n",
    "    return error\n",
    "\n",
    "# Derivada con respecto a mu\n",
    "def partial_J_mu(x, y, mu_j, sig_j):\n",
    "    phi_j = phi(x, mu_j, sig_j)\n",
    "    J_mu = (phi_j - y).dot( phi_j * ((x - mu_j) / sig_j**2) )\n",
    "    return J_mu\n",
    "\n",
    "def partial_J_sig(x, y, mu_j, sig_j):\n",
    "    phi_j = phi(x, mu_j, sig_j)\n",
    "    J_sig = (phi_j - y).dot( phi_j  * ((x - mu_j)**2 / sig_j**3) )\n",
    "    return J_sig\n",
    "    \n"
   ]
  },
  {
   "cell_type": "code",
   "execution_count": 101,
   "id": "expected-prime",
   "metadata": {},
   "outputs": [
    {
     "data": {
      "image/png": "[encoded data removed]",
      "text/plain": [
       "<Figure size 432x288 with 1 Axes>"
      ]
     },
     "metadata": {
      "needs_background": "light"
     },
     "output_type": "display_data"
    }
   ],
   "source": [
    "x = np.linspace(0, 100, 300)\n",
    "y = phi(x, 73, 5) + np.random.rand(300)/100\n",
    "\n",
    "plt.scatter(x, y);"
   ]
  },
  {
   "cell_type": "code",
   "execution_count": 102,
   "id": "imported-mozambique",
   "metadata": {},
   "outputs": [],
   "source": [
    "mu_j = 5\n",
    "sig_j = 10\n",
    "partial_J_mu(x, y, mu_j, sig_j)\n",
    "phi_j = phi(x, mu_j, sig_j)\n",
    "\n",
    "# phi_j "
   ]
  },
  {
   "cell_type": "code",
   "execution_count": 104,
   "id": "supposed-banks",
   "metadata": {},
   "outputs": [
    {
     "data": {
      "text/plain": [
       "1.8280704605701847"
      ]
     },
     "execution_count": 104,
     "metadata": {},
     "output_type": "execute_result"
    }
   ],
   "source": [
    "mu_j = 2\n",
    "sig_j = 2\n",
    "\n",
    "lr = 0.01\n",
    "error = []\n",
    "for i in range(10000):\n",
    "    g_m = partial_J_mu(x, y, mu_j, sig_j)\n",
    "    g_s = partial_J_sig(x, y, mu_j, sig_j)\n",
    "\n",
    "    mu_j = mu_j - lr * g_m\n",
    "    sig_j = sig_j - lr * g_s\n",
    "    \n",
    "\n",
    "sig_j\n",
    "mu_j"
   ]
  },
  {
   "cell_type": "code",
   "execution_count": 100,
   "id": "australian-advocacy",
   "metadata": {},
   "outputs": [
    {
     "data": {
      "text/plain": [
       "[<matplotlib.lines.Line2D at 0x7fe82bd21850>]"
      ]
     },
     "execution_count": 100,
     "metadata": {},
     "output_type": "execute_result"
    },
    {
     "data": {
      "image/png": "[encoded data removed]",
      "text/plain": [
       "<Figure size 432x288 with 1 Axes>"
      ]
     },
     "metadata": {
      "needs_background": "light"
     },
     "output_type": "display_data"
    }
   ],
   "source": [
    "yh = phi(x, mu_j, sig_j)\n",
    "\n",
    "plt.plot(x, yh)"
   ]
  },
  {
   "cell_type": "code",
   "execution_count": null,
   "id": "headed-episode",
   "metadata": {},
   "outputs": [],
   "source": [
    "def J(theta, x, y):"
   ]
  },
  {
   "cell_type": "code",
   "execution_count": null,
   "id": "oriented-london",
   "metadata": {},
   "outputs": [],
   "source": []
  },
  {
   "cell_type": "code",
   "execution_count": 402,
   "id": "following-grammar",
   "metadata": {},
   "outputs": [
    {
     "name": "stdout",
     "output_type": "stream",
     "text": [
      "[[Model]]\n",
      "    Model(gaussian)\n",
      "[[Fit Statistics]]\n",
      "    # fitting method   = leastsq\n",
      "    # function evals   = 21\n",
      "    # data points      = 300\n",
      "    # variables        = 3\n",
      "    chi-square         = 88.9957794\n",
      "    reduced chi-square = 0.29964909\n",
      "    Akaike info crit   = -358.558059\n",
      "    Bayesian info crit = -347.446711\n",
      "[[Variables]]\n",
      "    amplitude:  139.560918 +/- 1.70069145 (1.22%) (init = 192.8397)\n",
      "    center:     33.0700714 +/- 0.07637211 (0.23%) (init = 32.95243)\n",
      "    sigma:      5.42743084 +/- 0.07637204 (1.41%) (init = 6.020067)\n",
      "    fwhm:       12.7806227 +/- 0.17984240 (1.41%) == '2.3548200*sigma'\n",
      "    height:     10.2583995 +/- 0.12501074 (1.22%) == '0.3989423*amplitude/max(2.220446049250313e-16, sigma)'\n",
      "[[Correlations]] (unreported correlations are < 0.250)\n",
      "    C(amplitude, sigma) =  0.577\n"
     ]
    }
   ],
   "source": [
    "from numpy import loadtxt\n",
    "\n",
    "from lmfit.models import GaussianModel\n",
    "\n",
    "\n",
    "\n",
    "mod = GaussianModel()\n",
    "\n",
    "pars = mod.guess(y, x=x)\n",
    "out = mod.fit(y, pars, x=x)\n",
    "\n",
    "print(out.fit_report(min_correl=0.25))"
   ]
  },
  {
   "cell_type": "code",
   "execution_count": null,
   "id": "cooperative-austin",
   "metadata": {},
   "outputs": [],
   "source": []
  }
 ],
 "metadata": {
  "kernelspec": {
   "display_name": "Python 3",
   "language": "python",
   "name": "python3"
  },
  "language_info": {
   "codemirror_mode": {
    "name": "ipython",
    "version": 3
   },
   "file_extension": ".py",
   "mimetype": "text/x-python",
   "name": "python",
   "nbconvert_exporter": "python",
   "pygments_lexer": "ipython3",
   "version": "3.8.5"
  },
  "toc": {
   "base_numbering": 1,
   "nav_menu": {},
   "number_sections": true,
   "sideBar": true,
   "skip_h1_title": false,
   "title_cell": "Table of Contents",
   "title_sidebar": "Contents",
   "toc_cell": false,
   "toc_position": {},
   "toc_section_display": true,
   "toc_window_display": false
  }
 },
 "nbformat": 4,
 "nbformat_minor": 5
}
