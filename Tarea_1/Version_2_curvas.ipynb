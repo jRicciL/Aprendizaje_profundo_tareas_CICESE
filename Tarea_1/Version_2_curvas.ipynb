{
 "cells": [
  {
   "cell_type": "code",
   "execution_count": 392,
   "id": "polyphonic-locking",
   "metadata": {},
   "outputs": [],
   "source": [
    "import sympy as sym\n",
    "from sympy.functions import exp\n",
    "from sympy.abc import x"
   ]
  },
  {
   "cell_type": "code",
   "execution_count": 393,
   "id": "prescribed-taiwan",
   "metadata": {},
   "outputs": [
    {
     "data": {
      "text/latex": [
       "$\\displaystyle x$"
      ],
      "text/plain": [
       "x"
      ]
     },
     "execution_count": 393,
     "metadata": {},
     "output_type": "execute_result"
    }
   ],
   "source": [
    "x"
   ]
  },
  {
   "cell_type": "markdown",
   "id": "appropriate-relief",
   "metadata": {},
   "source": [
    "Resolver el problema de regresión:\n",
    "\n",
    "$$\\underset{\\alpha, \\mu}{\\operatorname{min}} J(\\alpha, \\mu) = \\frac{1}{2n}\\sum_{i=1}^n (\\alpha \\Phi(x_i) - y_i)^2$$\n",
    "\n",
    "Para el caso donde m=1 y $\\Phi = \\phi$.\n",
    "\n",
    "Derivadas parciales de cada $\\phi_j$:\n",
    "\n",
    "$$\\frac{\\partial}{\\partial \\mu} \\phi_j = - \\phi \\frac{(x - \\mu_j)}{\\sigma ^ 2}$$\n",
    "\n",
    "$$\\frac{\\partial}{\\partial \\mu} J(\\alpha, \\mu)  =  2/n * J'(\\alpha, \\mu) \\frac{\\partial}{\\partial \\mu} \\phi_j$$\n",
    "\n",
    "\n",
    "El Jacobiano de $\\Phi = \\phi_j$:\n",
    "\n",
    "- Con $\\a$ constante:\n",
    "$$\\nabla_x\\Phi = \\frac{\\partial}{\\partial \\mu} \\phi_j$$\n",
    "\n",
    "Gradiente:\n",
    "\n",
    "$$\\alpha_j = \\alpha_j - k$$"
   ]
  },
  {
   "cell_type": "markdown",
   "id": "protective-meeting",
   "metadata": {},
   "source": [
    "La final>\n",
    "$$\\underset{\\alpha, \\mu}{\\operatorname{min}} J(\\alpha, \\mu) =  \\frac{1}{2n}\\sum_{i=1}^n \\left( \\sum_{j=1}^m\\alpha_j\\phi_j(x_i) - y_i \\right)^2$$"
   ]
  },
  {
   "cell_type": "code",
   "execution_count": 622,
   "id": "narrow-switch",
   "metadata": {},
   "outputs": [],
   "source": [
    "import numpy as np\n",
    "from numpy import random\n",
    "import matplotlib.pyplot as plt\n",
    "import math"
   ]
  },
  {
   "cell_type": "code",
   "execution_count": 623,
   "id": "incorporate-assault",
   "metadata": {},
   "outputs": [],
   "source": [
    "def normal_distribution(x: np.ndarray, mean: float = 0, standard_deviation: float = 2) -> np.ndarray:\n",
    "    exponent = - ((x - mean) ** 2) / (2 * standard_deviation**2)\n",
    "    return np.exp(exponent)\n",
    "\n",
    "def phi_j(x, mu_j):\n",
    "    sig = sig_cons # Sigma constante\n",
    "    phi = np.exp( - (x - mu_j)**2 / (2 * sig**2))\n",
    "    return phi"
   ]
  },
  {
   "cell_type": "code",
   "execution_count": 730,
   "id": "considered-programmer",
   "metadata": {},
   "outputs": [
    {
     "data": {
      "text/plain": [
       "[<matplotlib.lines.Line2D at 0x7ffa280a2940>]"
      ]
     },
     "execution_count": 730,
     "metadata": {},
     "output_type": "execute_result"
    },
    {
     "data": {
      "image/png": "[encoded data removed]",
      "text/plain": [
       "<Figure size 432x288 with 1 Axes>"
      ]
     },
     "metadata": {
      "needs_background": "light"
     },
     "output_type": "display_data"
    }
   ],
   "source": [
    "def build_approximately_normal_distribution(x, mu: float = 0, sigma: float = 1, noise = 0.01):\n",
    "    y: np.ndarray = normal_distribution(x, mean=mu, standard_deviation=sigma)\n",
    "    noise = noise * np.random.normal(size=y.shape[0])\n",
    "    y += noise\n",
    "\n",
    "    return y\n",
    "\n",
    "mu1 = 33\n",
    "mu2 = 25\n",
    "sig_cons = 3\n",
    "x = np.linspace(0, 50, 100)\n",
    "y1 = build_approximately_normal_distribution(\n",
    "    x, mu=mu1, sigma=sig_cons)\n",
    "y2 = build_approximately_normal_distribution(\n",
    "    x, mu=mu2, sigma=sig_cons)\n",
    "y3 = build_approximately_normal_distribution(\n",
    "    x, mu=mu2, sigma=sig_cons)\n",
    "\n",
    "y = y1 + y2 + y3\n",
    "\n",
    "mu_int1 = 15\n",
    "mu_int2 = 25\n",
    "y_init = build_approximately_normal_distribution(\n",
    "    x, mu=mu_int1, sigma=sig_cons, noise=0)\n",
    "\n",
    "plt.scatter(x, y)\n",
    "plt.plot(x, y_init, c='red' )"
   ]
  },
  {
   "cell_type": "code",
   "execution_count": null,
   "id": "billion-zambia",
   "metadata": {},
   "outputs": [],
   "source": []
  },
  {
   "cell_type": "code",
   "execution_count": 731,
   "id": "silver-somalia",
   "metadata": {},
   "outputs": [],
   "source": [
    "def non_linear_least_square_regression(\n",
    "            f, f_primes, beta: np.ndarray, \n",
    "            x: np.ndarray, y: np.ndarray, \n",
    "            number_of_iterations: int = 250):\n",
    "    gamma: float = 3e-1\n",
    "    cost: float\n",
    "    for epoch in range(number_of_iterations):\n",
    "        cost: float = ((y - f(x, *beta)) ** 2).sum()\n",
    "        print(f\"Cost at epoch {epoch}:\", cost)\n",
    "\n",
    "        dLdf: np.ndarray = -2 / len(x) * (y - f(x, *beta))\n",
    "        nablaL = []\n",
    "        for f_prime in f_primes:\n",
    "            nablaL.append((dLdf * f_prime(x, *beta)).sum())\n",
    "\n",
    "        beta -= gamma * np.array(nablaL)\n",
    "        \n",
    "    return beta\n",
    "\n",
    "def J(x, y, mu):\n",
    "    residual = y - phi_j(x, mu)\n",
    "    cost = (residual).dot(residual) \n",
    "    return cost\n",
    "\n",
    "def phi_j(x, mu_j):\n",
    "    sig = sig_cons # Sigma constante\n",
    "    phi = np.exp( - (x - mu_j)**2 / (2 * sig**2))\n",
    "    return phi\n",
    "\n",
    "def partial_phi_mu(x, mu_j):\n",
    "    sig = sig_cons # Sigma constante\n",
    "    phi = phi_j(x, mu_j)\n",
    "    part_phi_mu = - ((x - mu_j) / sig**2)  * phi\n",
    "    return part_phi_mu\n",
    "\n",
    "def PHI(x, mus):\n",
    "    PHI = np.zeros_like(x)\n",
    "    for mu_j in mus:\n",
    "        PHI = PHI + phi_j(x, mu_j)\n",
    "    return PHI\n",
    "\n",
    "def J(x, y, mu):\n",
    "    y_hat = PHI(x, mu)\n",
    "    residual = y - y_hat.sum()\n",
    "    cost = (residual).dot(residual) \n",
    "    return cost\n",
    "\n",
    "\n",
    "def XX_partial_J_mu(x, y, mu):\n",
    "    y_hat = PHI(x, mu)\n",
    "    residual = y - y_hat # aqui estaria alphas\n",
    "    dJ_df = (y - phi_j(x, mu))\n",
    "    dp_dmu = partial_phi_mu(x, mu)\n",
    "    dJ_dmu = dJ_df.dot(dp_dmu) \n",
    "    return dJ_dmu\n",
    "\n",
    "def XX_partial_J_mu(x, y, mu):\n",
    "    dJ_df = (y - phi_j(x, mu))\n",
    "    dp_dmu = partial_phi_mu(x, mu)\n",
    "    dJ_dmu = dJ_df.dot(dp_dmu) \n",
    "    return dJ_dmu\n",
    "\n",
    "\n",
    "def grad_gauss(x, y, theta):\n",
    "    nablaJ = []\n",
    "    y_hat = PHI(x, theta)\n",
    "    dJ_df = y - y_hat # aqui estaria alphas\n",
    "    \n",
    "    for mu_j in theta:\n",
    "        dp_dmu_j = partial_phi_mu(x, mu_j)\n",
    "#         part_mu_j = partial_J_mu(x, y, mu_j)\n",
    "        dJ_dmu_j = dJ_df.dot(dp_dmu_j)\n",
    "        nablaJ.append(dJ_dmu_j)\n",
    "#     print(nablaJ)\n",
    "    return np.array(nablaJ)\n",
    "\n",
    "\n",
    "def GD(grad, theta,\n",
    "       x, y, lr,\n",
    "       n_iter = 250):\n",
    "\n",
    "    for t in range(n_iter):\n",
    "        nablaJ = grad(x, y, theta)\n",
    "        \n",
    "        theta = theta - lr*nablaJ\n",
    "        \n",
    "    return theta"
   ]
  },
  {
   "cell_type": "markdown",
   "id": "affected-mauritius",
   "metadata": {},
   "source": [
    "#### Hay que poner una base para inicializar mu0"
   ]
  },
  {
   "cell_type": "code",
   "execution_count": 735,
   "id": "infectious-disposition",
   "metadata": {},
   "outputs": [
    {
     "data": {
      "text/plain": [
       "array([24.7560578 , 33.04318164, 25.26385136])"
      ]
     },
     "execution_count": 735,
     "metadata": {},
     "output_type": "execute_result"
    }
   ],
   "source": [
    "mu_hat = GD(grad = grad_gauss, \n",
    "            theta = [mu_int1, mu_int2, 22],\n",
    "            x=x, y=y, \n",
    "            lr=0.1, n_iter=1000)\n",
    "\n",
    "mu_hat"
   ]
  },
  {
   "cell_type": "code",
   "execution_count": 736,
   "id": "composed-electric",
   "metadata": {},
   "outputs": [
    {
     "data": {
      "text/plain": [
       "[<matplotlib.lines.Line2D at 0x7ffa29d81eb0>]"
      ]
     },
     "execution_count": 736,
     "metadata": {},
     "output_type": "execute_result"
    },
    {
     "data": {
      "image/png": "[encoded data removed]",
      "text/plain": [
       "<Figure size 432x288 with 1 Axes>"
      ]
     },
     "metadata": {
      "needs_background": "light"
     },
     "output_type": "display_data"
    }
   ],
   "source": [
    "a = PHI(x, [33, 25])\n",
    "\n",
    "predict_a = PHI(x, mu_hat)\n",
    "\n",
    "plt.plot(x, y)\n",
    "plt.plot(x, predict_a)"
   ]
  },
  {
   "cell_type": "code",
   "execution_count": null,
   "id": "sorted-trick",
   "metadata": {},
   "outputs": [],
   "source": []
  },
  {
   "cell_type": "code",
   "execution_count": null,
   "id": "raised-reference",
   "metadata": {},
   "outputs": [],
   "source": []
  },
  {
   "cell_type": "code",
   "execution_count": null,
   "id": "subjective-celebrity",
   "metadata": {},
   "outputs": [],
   "source": []
  }
 ],
 "metadata": {
  "kernelspec": {
   "display_name": "Python 3",
   "language": "python",
   "name": "python3"
  },
  "language_info": {
   "codemirror_mode": {
    "name": "ipython",
    "version": 3
   },
   "file_extension": ".py",
   "mimetype": "text/x-python",
   "name": "python",
   "nbconvert_exporter": "python",
   "pygments_lexer": "ipython3",
   "version": "3.8.5"
  },
  "toc": {
   "base_numbering": 1,
   "nav_menu": {},
   "number_sections": true,
   "sideBar": true,
   "skip_h1_title": false,
   "title_cell": "Table of Contents",
   "title_sidebar": "Contents",
   "toc_cell": false,
   "toc_position": {},
   "toc_section_display": true,
   "toc_window_display": false
  }
 },
 "nbformat": 4,
 "nbformat_minor": 5
}
