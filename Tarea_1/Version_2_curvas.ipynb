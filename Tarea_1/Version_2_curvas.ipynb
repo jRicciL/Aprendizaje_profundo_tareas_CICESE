{
 "cells": [
  {
   "cell_type": "code",
   "execution_count": 392,
   "id": "sized-phenomenon",
   "metadata": {},
   "outputs": [],
   "source": [
    "import sympy as sym\n",
    "from sympy.functions import exp\n",
    "from sympy.abc import x"
   ]
  },
  {
   "cell_type": "code",
   "execution_count": 393,
   "id": "irish-vegetation",
   "metadata": {},
   "outputs": [
    {
     "data": {
      "text/latex": [
       "$\\displaystyle x$"
      ],
      "text/plain": [
       "x"
      ]
     },
     "execution_count": 393,
     "metadata": {},
     "output_type": "execute_result"
    }
   ],
   "source": [
    "x"
   ]
  },
  {
   "cell_type": "markdown",
   "id": "nervous-count",
   "metadata": {},
   "source": [
    "Resolver el problema de regresión:\n",
    "\n",
    "$$\\underset{\\alpha, \\mu}{\\operatorname{min}} J(\\alpha, \\mu) = \\frac{1}{2n}\\sum_{i=1}^n (\\alpha \\Phi(x_i) - y_i)^2$$\n",
    "\n",
    "Para el caso donde m=1 y $\\Phi = \\phi$.\n",
    "\n",
    "Derivadas parciales de cada $\\phi_j$:\n",
    "\n",
    "$$\\frac{\\partial}{\\partial \\mu} \\phi_j = - \\phi \\frac{(x - \\mu_j)}{\\sigma ^ 2}$$\n",
    "\n",
    "$$\\frac{\\partial}{\\partial \\mu} J(\\alpha, \\mu)  =  2/n * J'(\\alpha, \\mu) \\frac{\\partial}{\\partial \\mu} \\phi_j$$\n",
    "\n",
    "\n",
    "El Jacobiano de $\\Phi = \\phi_j$:\n",
    "\n",
    "- Con $\\a$ constante:\n",
    "$$\\nabla_x\\Phi = \\frac{\\partial}{\\partial \\mu} \\phi_j$$\n",
    "\n",
    "Gradiente:\n",
    "\n",
    "$$\\alpha_j = \\alpha_j - k$$"
   ]
  },
  {
   "cell_type": "code",
   "execution_count": 761,
   "id": "durable-productivity",
   "metadata": {},
   "outputs": [
    {
     "data": {
      "text/plain": [
       "[<matplotlib.lines.Line2D at 0x7ffa2a67a730>]"
      ]
     },
     "execution_count": 761,
     "metadata": {},
     "output_type": "execute_result"
    },
    {
     "data": {
      "image/png": "[encoded data removed]",
      "text/plain": [
       "<Figure size 432x288 with 1 Axes>"
      ]
     },
     "metadata": {
      "needs_background": "light"
     },
     "output_type": "display_data"
    }
   ],
   "source": [
    "def build_approximately_normal_distribution(x, a: float = 1, mu: float = 0, sigma: float = 1, noise = 0.01):\n",
    "    y: np.ndarray = normal_distribution(x, mean=mu, standard_deviation=sigma)\n",
    "    noise = noise * np.random.normal(size=y.shape[0])\n",
    "    y += noise\n",
    "    return y\n",
    "\n",
    "\n",
    "\n",
    "    \n",
    "\n",
    "mu1 = 33\n",
    "mu2 = 25\n",
    "sig_cons = 3\n",
    "x = np.linspace(0, 50, 100)\n",
    "y1 = build_approximately_normal_distribution(\n",
    "    x, mu=mu1, sigma=sig_cons)\n",
    "y2 = build_approximately_normal_distribution(\n",
    "    x, mu=mu2, sigma=sig_cons)\n",
    "y3 = build_approximately_normal_distribution(\n",
    "    x, mu=mu2, sigma=sig_cons)\n",
    "\n",
    "y = y1 + y2 \n",
    "\n",
    "mu_int1 = 15\n",
    "mu_int2 = 25\n",
    "y_init = build_approximately_normal_distribution(\n",
    "    x, mu=mu_int1, sigma=sig_cons, noise=0)\n",
    "\n",
    "plt.scatter(x, y)\n",
    "plt.plot(x, y_init, c='red' )"
   ]
  },
  {
   "cell_type": "markdown",
   "id": "leading-garden",
   "metadata": {},
   "source": [
    "La final>\n",
    "$$\\underset{\\alpha, \\mu}{\\operatorname{min}} J(\\alpha, \\mu) =  \\frac{1}{2n}\\sum_{i=1}^n \\left( \\sum_{j=1}^m\\alpha_j\\phi_j(x_i) - y_i \\right)^2$$"
   ]
  },
  {
   "cell_type": "code",
   "execution_count": 808,
   "id": "fourth-opinion",
   "metadata": {},
   "outputs": [],
   "source": [
    "import numpy as np\n",
    "from numpy import random\n",
    "import matplotlib.pyplot as plt\n",
    "import math"
   ]
  },
  {
   "cell_type": "code",
   "execution_count": 809,
   "id": "described-helmet",
   "metadata": {},
   "outputs": [],
   "source": [
    "def phi_j(x, mu_j):\n",
    "    sig = sig_cons # Sigma constante\n",
    "    phi = np.exp( - (x - mu_j)**2 / (2 * sig**2))\n",
    "    return phi"
   ]
  },
  {
   "cell_type": "code",
   "execution_count": 949,
   "id": "hairy-costa",
   "metadata": {},
   "outputs": [
    {
     "data": {
      "text/plain": [
       "<matplotlib.collections.PathCollection at 0x7ffa2e552580>"
      ]
     },
     "execution_count": 949,
     "metadata": {},
     "output_type": "execute_result"
    },
    {
     "data": {
      "image/png": "[encoded data removed]",
      "text/plain": [
       "<Figure size 432x288 with 1 Axes>"
      ]
     },
     "metadata": {
      "needs_background": "light"
     },
     "output_type": "display_data"
    }
   ],
   "source": [
    "def build_app_norm(x, a, mu, noise=0.01):\n",
    "    y = np.zeros_like(x)\n",
    "    for j in range(len(mu)):\n",
    "        y += a[j] * phi_j(x, mu[j])\n",
    "    y += noise * np.random.normal(size=y.shape[0])\n",
    "    return y\n",
    "\n",
    "y = build_app_norm(x, [1, 1.1, 2, 3, 2.3], [1, 15, 23, 34, 35], noise=0.03)\n",
    "plt.scatter(x, y)"
   ]
  },
  {
   "cell_type": "code",
   "execution_count": null,
   "id": "optical-tragedy",
   "metadata": {},
   "outputs": [],
   "source": []
  },
  {
   "cell_type": "code",
   "execution_count": 950,
   "id": "classical-vacation",
   "metadata": {},
   "outputs": [],
   "source": [
    "def phi_j(x, mu_j):\n",
    "    sig = sig_cons # Sigma constante\n",
    "    phi = np.exp( - (x - mu_j)**2 / (2 * sig**2))\n",
    "    return phi\n",
    "\n",
    "def partial_phi_mu(x, mu_j):\n",
    "    sig = sig_cons # Sigma constante\n",
    "    phi = phi_j(x, mu_j)\n",
    "    part_phi_mu = - ((x - mu_j) / sig**2)  * phi\n",
    "    return part_phi_mu\n",
    "    \n",
    "\n",
    "def PHI(x, mus):\n",
    "#     PHI = np.zeros_like(x)\n",
    "    PHI = []\n",
    "    for mu_j in mus:\n",
    "        PHI.append(phi_j(x, mu_j))\n",
    "    return np.array(PHI)\n",
    "\n",
    "def J(x, y, mu):\n",
    "    y_hat = PHI(x, mu)\n",
    "    residual = y - y_hat.sum()\n",
    "    cost = (residual).dot(residual) \n",
    "    return cost\n",
    "\n",
    "def grad_gauss(x, y, thetas, alphas):\n",
    "    nablaJ = []\n",
    "#     alpha = np.ones_like(theta)\n",
    "    y_hat = alphas.dot( PHI(x, thetas) )\n",
    "    dJ_df = y - y_hat # aqui estaria alphas\n",
    "    \n",
    "    for mu_j in thetas:\n",
    "        dp_dmu_j = partial_phi_mu(x, mu_j)\n",
    "        dJ_dmu_j = dJ_df.dot(dp_dmu_j)        \n",
    "        nablaJ.append(dJ_dmu_j)\n",
    "        \n",
    "\n",
    "    return np.array(nablaJ)\n",
    "\n",
    "\n",
    "def GD(grad, thetas, alphas,\n",
    "       x, y, lr,\n",
    "       n_iter = 250):\n",
    "    \n",
    "    thetas = np.array(thetas)\n",
    "    alphas = np.array(alphas)\n",
    "\n",
    "    for t in range(n_iter):\n",
    "        # Alphas\n",
    "        PHI_ = PHI(x, thetas).T\n",
    "        alphas = np.linalg.inv(PHI_.T.dot(PHI_)).dot(PHI_.T).dot(y)\n",
    "        \n",
    "        # Gradiente para mus\n",
    "        nablaJ = grad(x, y, thetas, alphas)\n",
    "        thetas = thetas - lr*nablaJ\n",
    "        \n",
    "    return thetas, alphas"
   ]
  },
  {
   "cell_type": "markdown",
   "id": "driving-cradle",
   "metadata": {},
   "source": [
    "#### Hay que poner una base para inicializar mu0"
   ]
  },
  {
   "cell_type": "code",
   "execution_count": 955,
   "id": "impaired-samba",
   "metadata": {},
   "outputs": [
    {
     "data": {
      "text/plain": [
       "(array([ 1.1872802 ,  1.82582846, 14.9833002 , 22.98955369, 34.42263682]),\n",
       " array([ 1.18128245, -0.18042968,  1.09026436,  2.00508421,  5.26811502]))"
      ]
     },
     "execution_count": 955,
     "metadata": {},
     "output_type": "execute_result"
    }
   ],
   "source": [
    "mus = [1, 2, 3, 4, 5]\n",
    "alphas = [1, 1, 1, 1, 1]\n",
    "mu_hat, a_hat = GD(grad = grad_gauss, \n",
    "            thetas = mus,\n",
    "            alphas = alphas,\n",
    "            x=x, y=y, \n",
    "            lr=0.1, n_iter=10000)\n",
    "\n",
    "mu_hat, a_hat"
   ]
  },
  {
   "cell_type": "code",
   "execution_count": 956,
   "id": "brief-weather",
   "metadata": {},
   "outputs": [
    {
     "data": {
      "text/plain": [
       "[<matplotlib.lines.Line2D at 0x7ffa2e815c40>]"
      ]
     },
     "execution_count": 956,
     "metadata": {},
     "output_type": "execute_result"
    },
    {
     "data": {
      "image/png": "[encoded data removed]",
      "text/plain": [
       "<Figure size 432x288 with 1 Axes>"
      ]
     },
     "metadata": {
      "needs_background": "light"
     },
     "output_type": "display_data"
    }
   ],
   "source": [
    "\n",
    "# predict_a = PHI(x, mu_hat)\n",
    "predict_a = np.array(a_hat).dot(PHI(x, mu_hat))\n",
    "\n",
    "plt.scatter(x, y)\n",
    "plt.plot(x, predict_a, c='orange')"
   ]
  },
  {
   "cell_type": "code",
   "execution_count": 906,
   "id": "skilled-donor",
   "metadata": {},
   "outputs": [
    {
     "data": {
      "text/plain": [
       "(2, 100)"
      ]
     },
     "execution_count": 906,
     "metadata": {},
     "output_type": "execute_result"
    }
   ],
   "source": [
    "PHI(x, mu_hat).shape"
   ]
  },
  {
   "cell_type": "code",
   "execution_count": 963,
   "id": "flush-lindsay",
   "metadata": {},
   "outputs": [
    {
     "data": {
      "text/plain": [
       "[<matplotlib.lines.Line2D at 0x7ffa2fdd36a0>]"
      ]
     },
     "execution_count": 963,
     "metadata": {},
     "output_type": "execute_result"
    },
    {
     "data": {
      "image/png": "[encoded data removed]",
      "text/plain": [
       "<Figure size 432x288 with 1 Axes>"
      ]
     },
     "metadata": {
      "needs_background": "light"
     },
     "output_type": "display_data"
    }
   ],
   "source": [
    "import pandas as pd\n",
    "df_eth = pd.read_pickle('../ETH_1200_hours_till_28012021.pkl')\n",
    "\n",
    "y = df_eth['open']\n",
    "x = np.arange(len(y))\n",
    "\n",
    "plt.plot(x, y, label=\"sample data\")\n"
   ]
  },
  {
   "cell_type": "code",
   "execution_count": 964,
   "id": "personalized-marshall",
   "metadata": {},
   "outputs": [
    {
     "data": {
      "text/plain": [
       "(array([ 38.97868481,  17.83880845,  56.13402321, -14.00217121,\n",
       "         89.70008795]),\n",
       " array([7.75216111e+02, 7.92529551e+02, 7.87726942e+02, 3.65075905e+07,\n",
       "        8.34790385e+02]))"
      ]
     },
     "execution_count": 964,
     "metadata": {},
     "output_type": "execute_result"
    }
   ],
   "source": [
    "mus = [10, 20, 30, 40, 50]\n",
    "alphas = [1, 1, 1, 1, 1]\n",
    "mu_hat, a_hat = GD(grad = grad_gauss, \n",
    "            thetas = mus,\n",
    "            alphas = alphas,\n",
    "            x=x, y=y, \n",
    "            lr=0.1, n_iter=10000)\n",
    "\n",
    "mu_hat, a_hat"
   ]
  },
  {
   "cell_type": "code",
   "execution_count": 965,
   "id": "abroad-swing",
   "metadata": {},
   "outputs": [
    {
     "data": {
      "text/plain": [
       "[<matplotlib.lines.Line2D at 0x7ffa2ff676d0>]"
      ]
     },
     "execution_count": 965,
     "metadata": {},
     "output_type": "execute_result"
    },
    {
     "data": {
      "image/png": "[encoded data removed]",
      "text/plain": [
       "<Figure size 432x288 with 1 Axes>"
      ]
     },
     "metadata": {
      "needs_background": "light"
     },
     "output_type": "display_data"
    }
   ],
   "source": [
    "predict_a = np.array(a_hat).dot(PHI(x, mu_hat))\n",
    "\n",
    "plt.scatter(x, y)\n",
    "plt.plot(x, predict_a, c='orange')"
   ]
  },
  {
   "cell_type": "code",
   "execution_count": null,
   "id": "valued-merchandise",
   "metadata": {},
   "outputs": [],
   "source": []
  }
 ],
 "metadata": {
  "kernelspec": {
   "display_name": "Python 3",
   "language": "python",
   "name": "python3"
  },
  "language_info": {
   "codemirror_mode": {
    "name": "ipython",
    "version": 3
   },
   "file_extension": ".py",
   "mimetype": "text/x-python",
   "name": "python",
   "nbconvert_exporter": "python",
   "pygments_lexer": "ipython3",
   "version": "3.8.5"
  },
  "toc": {
   "base_numbering": 1,
   "nav_menu": {},
   "number_sections": true,
   "sideBar": true,
   "skip_h1_title": false,
   "title_cell": "Table of Contents",
   "title_sidebar": "Contents",
   "toc_cell": false,
   "toc_position": {},
   "toc_section_display": true,
   "toc_window_display": false
  }
 },
 "nbformat": 4,
 "nbformat_minor": 5
}
