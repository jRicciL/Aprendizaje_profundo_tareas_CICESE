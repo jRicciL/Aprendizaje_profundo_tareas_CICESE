{
 "cells": [
  {
   "cell_type": "code",
   "execution_count": 1,
   "id": "electric-scratch",
   "metadata": {},
   "outputs": [],
   "source": [
    "## Datos"
   ]
  },
  {
   "cell_type": "code",
   "execution_count": 26,
   "id": "introductory-shower",
   "metadata": {},
   "outputs": [
    {
     "data": {
      "image/png": "[encoded data removed]",
      "text/plain": [
       "<Figure size 432x288 with 1 Axes>"
      ]
     },
     "metadata": {
      "needs_background": "light"
     },
     "output_type": "display_data"
    }
   ],
   "source": [
    "import numpy as np\n",
    "import matplotlib.pyplot as plt\n",
    "from sklearn import linear_model, datasets\n",
    "\n",
    "n_samples = 500\n",
    "X, y = datasets.make_regression(\n",
    "    n_samples=n_samples,\n",
    "    n_features=1,\n",
    "    n_informative=2,\n",
    "    noise=5,\n",
    "    random_state=0\n",
    ")\n",
    "\n",
    "# n_outliers = 100\n",
    "# X[:n_outliers], y[:n_outliers] = datasets.make_regression(\n",
    "#     n_features=1,\n",
    "#     n_informative=2,\n",
    "#     noise=2,\n",
    "#     random_state=61\n",
    "# )\n",
    "\n",
    "y = np.expand_dims(y, axis=1)\n",
    "plt.scatter(X, y, marker='.')\n",
    "plt.show()"
   ]
  },
  {
   "cell_type": "code",
   "execution_count": 58,
   "id": "promotional-bumper",
   "metadata": {},
   "outputs": [],
   "source": [
    "def grad_quadratic(theta, f_params):\n",
    "    '''\n",
    "    Gradiente de la funcion de costo \n",
    "           sum_i (theta@x[i]-y[i])**2\n",
    "    '''    \n",
    "    X = f_params['X']\n",
    "    y = f_params['y']\n",
    "\n",
    "    err=theta[0]*X+theta[1]-y\n",
    "    partial0=err\n",
    "    partial1=X*partial0\n",
    "    gradient= np.concatenate((partial1, partial0), axis=1)\n",
    "    return np.sum(gradient, axis=0)"
   ]
  },
  {
   "cell_type": "code",
   "execution_count": 59,
   "id": "caroline-spoke",
   "metadata": {},
   "outputs": [
    {
     "data": {
      "text/plain": [
       "array([-22250.44731449,   1257.69882306])"
      ]
     },
     "execution_count": 59,
     "metadata": {},
     "output_type": "execute_result"
    }
   ],
   "source": [
    "grad_quadratic([1, 1], {'X': X, 'y': y})"
   ]
  },
  {
   "cell_type": "code",
   "execution_count": 44,
   "id": "protecting-final",
   "metadata": {},
   "outputs": [
    {
     "data": {
      "text/plain": [
       "array([-22250.44731449,   1257.69882306])"
      ]
     },
     "execution_count": 44,
     "metadata": {},
     "output_type": "execute_result"
    }
   ],
   "source": [
    "grad_quadratic([1, 1], {'X': X, 'y': y})"
   ]
  },
  {
   "cell_type": "code",
   "execution_count": 52,
   "id": "aerial-andrews",
   "metadata": {},
   "outputs": [
    {
     "data": {
      "text/plain": [
       "array([45.60138717, -0.38455448])"
      ]
     },
     "execution_count": 52,
     "metadata": {},
     "output_type": "execute_result"
    }
   ],
   "source": [
    "theta = [1, 1]\n",
    "\n",
    "for i in range(1000):\n",
    "    grad = grad_quadratic(theta, {'X': X, 'y': y})\n",
    "    theta = theta - 0.001 * grad\n",
    "    \n",
    "theta"
   ]
  },
  {
   "cell_type": "code",
   "execution_count": 53,
   "id": "younger-cylinder",
   "metadata": {},
   "outputs": [],
   "source": [
    "def GD(theta=[], grad=None, gd_params={}, f_params={}):\n",
    "\n",
    "    nIter = gd_params['nIter'] \n",
    "    alpha = gd_params['alpha']\n",
    "    Theta=[]\n",
    "    for t in range(nIter):\n",
    "        p = grad(theta,f_params=f_params)\n",
    "        theta = theta - alpha*p\n",
    "        Theta.append(theta)\n",
    "    return np.array(Theta)"
   ]
  },
  {
   "cell_type": "code",
   "execution_count": 55,
   "id": "permanent-pavilion",
   "metadata": {},
   "outputs": [
    {
     "data": {
      "text/plain": [
       "array([[23.25044731, -0.25769882],\n",
       "       [34.39354976, -0.60447443],\n",
       "       [39.97764346, -0.63659867],\n",
       "       ...,\n",
       "       [45.60138717, -0.38455448],\n",
       "       [45.60138717, -0.38455448],\n",
       "       [45.60138717, -0.38455448]])"
      ]
     },
     "execution_count": 55,
     "metadata": {},
     "output_type": "execute_result"
    }
   ],
   "source": [
    "GD(theta=[1, 1], grad = grad_quadratic, gd_params={'nIter': 1000,  'alpha':0.001}, \n",
    "                       f_params={'X': X, 'y': y})"
   ]
  },
  {
   "cell_type": "code",
   "execution_count": 42,
   "id": "proper-international",
   "metadata": {},
   "outputs": [
    {
     "data": {
      "image/png": "[encoded data removed]",
      "text/plain": [
       "<Figure size 432x288 with 1 Axes>"
      ]
     },
     "metadata": {
      "needs_background": "light"
     },
     "output_type": "display_data"
    }
   ],
   "source": [
    "yh = -0.38 + X*(45.6)\n",
    "plt.scatter(X, y, marker='.')\n",
    "plt.plot(X, yh, c='red')\n",
    "plt.show()"
   ]
  },
  {
   "cell_type": "code",
   "execution_count": 41,
   "id": "pending-designation",
   "metadata": {},
   "outputs": [
    {
     "data": {
      "text/plain": [
       "array([-0.38455448])"
      ]
     },
     "execution_count": 41,
     "metadata": {},
     "output_type": "execute_result"
    }
   ],
   "source": [
    "from sklearn.linear_model import LinearRegression\n",
    "model = LinearRegression()\n",
    "model.fit(X, y)\n",
    "\n",
    "model.coef_\n",
    "model.intercept_"
   ]
  },
  {
   "cell_type": "code",
   "execution_count": null,
   "id": "narrow-newfoundland",
   "metadata": {},
   "outputs": [],
   "source": []
  }
 ],
 "metadata": {
  "kernelspec": {
   "display_name": "Python 3",
   "language": "python",
   "name": "python3"
  },
  "language_info": {
   "codemirror_mode": {
    "name": "ipython",
    "version": 3
   },
   "file_extension": ".py",
   "mimetype": "text/x-python",
   "name": "python",
   "nbconvert_exporter": "python",
   "pygments_lexer": "ipython3",
   "version": "3.8.5"
  },
  "toc": {
   "base_numbering": 1,
   "nav_menu": {},
   "number_sections": true,
   "sideBar": true,
   "skip_h1_title": false,
   "title_cell": "Table of Contents",
   "title_sidebar": "Contents",
   "toc_cell": false,
   "toc_position": {},
   "toc_section_display": true,
   "toc_window_display": true
  }
 },
 "nbformat": 4,
 "nbformat_minor": 5
}
